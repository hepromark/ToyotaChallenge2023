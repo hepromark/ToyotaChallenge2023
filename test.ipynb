import torch
import torchvision
import numpy

model = torchvision.models.detection.fasterrcnn_resnet50_fpn()